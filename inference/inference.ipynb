{
 "cells": [
  {
   "cell_type": "code",
   "execution_count": 59,
   "metadata": {},
   "outputs": [
    {
     "ename": "FileNotFoundError",
     "evalue": "[Errno 2] No such file or directory: 'test_data/Forest_1472.jpg'",
     "output_type": "error",
     "traceback": [
      "\u001b[0;31m---------------------------------------------------------------------------\u001b[0m",
      "\u001b[0;31mFileNotFoundError\u001b[0m                         Traceback (most recent call last)",
      "Cell \u001b[0;32mIn[59], line 28\u001b[0m\n\u001b[1;32m     26\u001b[0m src \u001b[39m=\u001b[39m os\u001b[39m.\u001b[39mpath\u001b[39m.\u001b[39mjoin(folder_path, image)\n\u001b[1;32m     27\u001b[0m dst \u001b[39m=\u001b[39m os\u001b[39m.\u001b[39mpath\u001b[39m.\u001b[39mjoin(selected_dir, image)\n\u001b[0;32m---> 28\u001b[0m shutil\u001b[39m.\u001b[39;49mcopy(src, dst)\n",
      "File \u001b[0;32m~/mambaforge/envs/final/lib/python3.9/shutil.py:426\u001b[0m, in \u001b[0;36mcopy\u001b[0;34m(src, dst, follow_symlinks)\u001b[0m\n\u001b[1;32m    424\u001b[0m \u001b[39mif\u001b[39;00m os\u001b[39m.\u001b[39mpath\u001b[39m.\u001b[39misdir(dst):\n\u001b[1;32m    425\u001b[0m     dst \u001b[39m=\u001b[39m os\u001b[39m.\u001b[39mpath\u001b[39m.\u001b[39mjoin(dst, os\u001b[39m.\u001b[39mpath\u001b[39m.\u001b[39mbasename(src))\n\u001b[0;32m--> 426\u001b[0m copyfile(src, dst, follow_symlinks\u001b[39m=\u001b[39;49mfollow_symlinks)\n\u001b[1;32m    427\u001b[0m copymode(src, dst, follow_symlinks\u001b[39m=\u001b[39mfollow_symlinks)\n\u001b[1;32m    428\u001b[0m \u001b[39mreturn\u001b[39;00m dst\n",
      "File \u001b[0;32m~/mambaforge/envs/final/lib/python3.9/shutil.py:265\u001b[0m, in \u001b[0;36mcopyfile\u001b[0;34m(src, dst, follow_symlinks)\u001b[0m\n\u001b[1;32m    263\u001b[0m \u001b[39melse\u001b[39;00m:\n\u001b[1;32m    264\u001b[0m     \u001b[39mtry\u001b[39;00m:\n\u001b[0;32m--> 265\u001b[0m         \u001b[39mwith\u001b[39;00m \u001b[39mopen\u001b[39m(src, \u001b[39m'\u001b[39m\u001b[39mrb\u001b[39m\u001b[39m'\u001b[39m) \u001b[39mas\u001b[39;00m fsrc, \u001b[39mopen\u001b[39;49m(dst, \u001b[39m'\u001b[39;49m\u001b[39mwb\u001b[39;49m\u001b[39m'\u001b[39;49m) \u001b[39mas\u001b[39;00m fdst:\n\u001b[1;32m    266\u001b[0m             \u001b[39m# macOS\u001b[39;00m\n\u001b[1;32m    267\u001b[0m             \u001b[39mif\u001b[39;00m _HAS_FCOPYFILE:\n\u001b[1;32m    268\u001b[0m                 \u001b[39mtry\u001b[39;00m:\n",
      "\u001b[0;31mFileNotFoundError\u001b[0m: [Errno 2] No such file or directory: 'test_data/Forest_1472.jpg'"
     ]
    }
   ],
   "source": [
    "import os\n",
    "import random\n",
    "import shutil\n",
    "\n",
    "# Path to the directory containing the folders with images\n",
    "data_dir = '../2750/'\n",
    "\n",
    "# Path to the directory where the selected images will be saved\n",
    "selected_dir = 'test_data/'\n",
    "\n",
    "# Create the directory if it doesn't exist\n",
    "if not os.path.exists(selected_dir):\n",
    "    os.makedirs(selected_dir)\n",
    "# Number of images to select from each folder\n",
    "num_images = 2\n",
    "\n",
    "# Loop through the folders in the data directory\n",
    "for folder in os.listdir(data_dir):\n",
    "    # Path to the current folder\n",
    "    folder_path = os.path.join(data_dir, folder)\n",
    "    # Check if the current path is a directory\n",
    "    if os.path.isdir(folder_path):\n",
    "        # Get a list of all the image file names in the folder\n",
    "        image_files = os.listdir(folder_path)\n",
    "        # Select two random images from the list\n",
    "        selected_images = random.sample(image_files, num_images)\n",
    "        # Loop through the selected images and copy them to the selected directory\n",
    "        for image in selected_images:\n",
    "            src = os.path.join(folder_path, image)\n",
    "            dst = os.path.join(selected_dir, image)\n",
    "            shutil.copy(src, dst)\n"
   ]
  },
  {
   "attachments": {},
   "cell_type": "markdown",
   "metadata": {},
   "source": [
    "# Loading model"
   ]
  },
  {
   "cell_type": "code",
   "execution_count": 40,
   "metadata": {},
   "outputs": [],
   "source": [
    "import os\n",
    "from tensorflow.keras.models import model_from_json\n",
    "\n",
    "model_dir = '../saved_models/'\n",
    "\n",
    "# Load the model architecture from the JSON file\n",
    "with open(os.path.join(model_dir, 'model_architecture.json'), 'r') as json_file:\n",
    "    loaded_model_json = json_file.read()\n",
    "loaded_model = model_from_json(loaded_model_json)\n",
    "\n",
    "# Load the model weights from the HDF5 file\n",
    "loaded_model.load_weights(os.path.join(model_dir, 'model_weights.h5'))\n",
    "\n",
    "# Load the class dictionary\n",
    "class_dict = {}\n",
    "with open(f'{model_dir}/class_dict.txt', 'r') as file:\n",
    "    for line in file:\n",
    "        key, value = line.strip().split(':')\n",
    "        class_dict[int(key)] = value\n",
    "\n",
    "\n"
   ]
  },
  {
   "cell_type": "code",
   "execution_count": 49,
   "metadata": {},
   "outputs": [
    {
     "name": "stdout",
     "output_type": "stream",
     "text": [
      "1/1 [==============================] - 0s 23ms/step\n",
      "Predicted class label: 4\n",
      "Predicted class label: Industrial\n",
      "Predicted probability: 0.0\n"
     ]
    }
   ],
   "source": [
    "import cv2\n",
    "import numpy as np\n",
    "\n",
    "# Load and preprocess the image\n",
    "image = cv2.imread('test_data/River_2499.jpg')\n",
    "image = cv2.cvtColor(image, cv2.COLOR_BGR2RGB)\n",
    "image = cv2.resize(image, (64, 64))\n",
    "image = np.expand_dims(image, axis=0)\n",
    "\n",
    "# Make a prediction on the image\n",
    "predictions = loaded_model.predict(image)\n",
    "\n",
    "# Get the index of the class with the highest probability\n",
    "predicted_class_index = np.argmax(predictions)\n",
    "\n",
    "# Map the predicted class index to the class label using the class dictionary\n",
    "predicted_class_label = class_dict[predicted_class_index]\n",
    "\n",
    "# Print the predicted class label and probability\n",
    "print(\"Predicted class label:\", predicted_class_index)\n",
    "\n",
    "print(\"Predicted class label:\", predicted_class_label)\n",
    "print(\"Predicted probability:\", predictions[0][0])\n"
   ]
  },
  {
   "cell_type": "code",
   "execution_count": 51,
   "metadata": {},
   "outputs": [
    {
     "name": "stdout",
     "output_type": "stream",
     "text": [
      "1/1 [==============================] - 0s 23ms/step\n",
      "1/1 [==============================] - 0s 11ms/step\n",
      "1/1 [==============================] - 0s 11ms/step\n",
      "1/1 [==============================] - 0s 11ms/step\n",
      "1/1 [==============================] - 0s 12ms/step\n",
      "1/1 [==============================] - 0s 11ms/step\n",
      "1/1 [==============================] - 0s 14ms/step\n",
      "1/1 [==============================] - 0s 11ms/step\n",
      "1/1 [==============================] - 0s 12ms/step\n",
      "1/1 [==============================] - 0s 11ms/step\n",
      "1/1 [==============================] - 0s 11ms/step\n",
      "1/1 [==============================] - 0s 12ms/step\n",
      "1/1 [==============================] - 0s 11ms/step\n",
      "1/1 [==============================] - 0s 11ms/step\n",
      "1/1 [==============================] - 0s 11ms/step\n",
      "1/1 [==============================] - 0s 11ms/step\n",
      "1/1 [==============================] - 0s 11ms/step\n",
      "1/1 [==============================] - 0s 11ms/step\n",
      "1/1 [==============================] - 0s 11ms/step\n",
      "1/1 [==============================] - 0s 11ms/step\n"
     ]
    }
   ],
   "source": [
    "# import os\n",
    "# import numpy as np\n",
    "# from tensorflow.keras.preprocessing.image import load_img, img_to_array\n",
    "\n",
    "# # Define the directory containing the sample images and their labels\n",
    "# img_dir = 'test_data/'\n",
    "\n",
    "\n",
    "# # Generate predictions on the sample images\n",
    "# results = []\n",
    "# for i, filename in enumerate(os.listdir(img_dir)):\n",
    "#     img_path = os.path.join(img_dir, filename)\n",
    "#     img = load_img(img_path, target_size=(64, 64))\n",
    "#     img_array = img_to_array(img)\n",
    "#     img_array = np.expand_dims(img_array, axis=0)\n",
    "#     pred = loaded_model.predict(img_array)[0]\n",
    "#     pred_class = class_dict[np.argmax(pred)]\n",
    "#     actual_class = filename.strip().split('_')[0]\n",
    "#     results.append((filename, actual_class, pred_class))\n",
    "\n",
    "# # Save the results to a file\n",
    "# with open('classification_results.txt', 'w') as file:\n",
    "#     for filename, actual_class, pred_class in results:\n",
    "#         file.write(filename + ' :   ' + actual_class + '    :   ' + pred_class + '\\n')\n"
   ]
  },
  {
   "cell_type": "code",
   "execution_count": 55,
   "metadata": {},
   "outputs": [
    {
     "name": "stdout",
     "output_type": "stream",
     "text": [
      "1/1 [==============================] - 0s 45ms/step\n",
      "1/1 [==============================] - 0s 18ms/step\n",
      "1/1 [==============================] - 0s 20ms/step\n",
      "1/1 [==============================] - 0s 12ms/step\n",
      "1/1 [==============================] - 0s 13ms/step\n",
      "1/1 [==============================] - 0s 11ms/step\n",
      "1/1 [==============================] - 0s 12ms/step\n",
      "1/1 [==============================] - 0s 12ms/step\n",
      "1/1 [==============================] - 0s 12ms/step\n",
      "1/1 [==============================] - 0s 18ms/step\n",
      "1/1 [==============================] - 0s 14ms/step\n",
      "1/1 [==============================] - 0s 12ms/step\n",
      "1/1 [==============================] - 0s 16ms/step\n",
      "1/1 [==============================] - 0s 13ms/step\n",
      "1/1 [==============================] - 0s 18ms/step\n",
      "1/1 [==============================] - 0s 13ms/step\n",
      "1/1 [==============================] - 0s 13ms/step\n",
      "1/1 [==============================] - 0s 13ms/step\n",
      "1/1 [==============================] - 0s 14ms/step\n",
      "1/1 [==============================] - 0s 12ms/step\n"
     ]
    }
   ],
   "source": [
    "import os\n",
    "import csv\n",
    "import numpy as np\n",
    "from tensorflow.keras.preprocessing.image import load_img, img_to_array\n",
    "\n",
    "# Define the directory containing the sample images and their labels\n",
    "img_dir = 'test_data/'\n",
    "\n",
    "# Define the column names for the CSV file\n",
    "field_names = ['image_name', 'predicted', 'actual']\n",
    "\n",
    "# Generate predictions on the sample images\n",
    "results = []\n",
    "for i, filename in enumerate(os.listdir(img_dir)):\n",
    "    img_path = os.path.join(img_dir, filename)\n",
    "    img = load_img(img_path, target_size=(64, 64))\n",
    "    img_array = img_to_array(img)\n",
    "    img_array = np.expand_dims(img_array, axis=0)\n",
    "    pred = loaded_model.predict(img_array)[0]\n",
    "    pred_class = class_dict[np.argmax(pred)]\n",
    "    actual_class = filename.strip().split('_')[0]\n",
    "    results.append({'image_name': filename, 'predicted': pred_class, 'actual': actual_class})\n",
    "\n",
    "# Save the results to a CSV file\n",
    "with open('classification_results.csv', mode='w', newline='') as file:\n",
    "    writer = csv.DictWriter(file, fieldnames=field_names)\n",
    "    writer.writeheader()\n",
    "    for result in results:\n",
    "        writer.writerow(result)\n"
   ]
  },
  {
   "cell_type": "code",
   "execution_count": 58,
   "metadata": {},
   "outputs": [
    {
     "name": "stdout",
     "output_type": "stream",
     "text": [
      "                       image_name   predicted                actual\n",
      "0            Residential_1546.jpg  Industrial           Residential\n",
      "1                 Pasture_103.jpg       River               Pasture\n",
      "2              Industrial_264.jpg  Industrial            Industrial\n",
      "3                 Pasture_924.jpg  AnnualCrop               Pasture\n",
      "4          PermanentCrop_1027.jpg  Industrial         PermanentCrop\n",
      "5                 Forest_2594.jpg  AnnualCrop                Forest\n",
      "6                   River_962.jpg       River                 River\n",
      "7                Highway_1492.jpg  AnnualCrop               Highway\n",
      "8                  River_1343.jpg  Industrial                 River\n",
      "9             AnnualCrop_1326.jpg  AnnualCrop            AnnualCrop\n",
      "10              Industrial_67.jpg  Industrial            Industrial\n",
      "11               SeaLake_2397.jpg  Industrial               SeaLake\n",
      "12          PermanentCrop_633.jpg  Industrial         PermanentCrop\n",
      "13            Residential_610.jpg  Industrial           Residential\n",
      "14               Highway_1600.jpg  Industrial               Highway\n",
      "15                 Forest_926.jpg       River                Forest\n",
      "16  HerbaceousVegetation_1998.jpg  AnnualCrop  HerbaceousVegetation\n",
      "17               SeaLake_2451.jpg       River               SeaLake\n",
      "18   HerbaceousVegetation_431.jpg  Industrial  HerbaceousVegetation\n",
      "19            AnnualCrop_2138.jpg  Industrial            AnnualCrop\n",
      "Accuracy: 0.2\n"
     ]
    }
   ],
   "source": [
    "import pandas as pd\n",
    "\n",
    "# Visualize the CSV file using pandas\n",
    "df = pd.read_csv('classification_results.csv')\n",
    "print(df)\n",
    "\n",
    "# Calculate the accuracy\n",
    "correct_predictions = df['predicted'] == df['actual']\n",
    "accuracy = sum(correct_predictions) / len(df)\n",
    "print('Accuracy:', accuracy)"
   ]
  }
 ],
 "metadata": {
  "kernelspec": {
   "display_name": "final",
   "language": "python",
   "name": "python3"
  },
  "language_info": {
   "codemirror_mode": {
    "name": "ipython",
    "version": 3
   },
   "file_extension": ".py",
   "mimetype": "text/x-python",
   "name": "python",
   "nbconvert_exporter": "python",
   "pygments_lexer": "ipython3",
   "version": "3.9.7"
  },
  "orig_nbformat": 4
 },
 "nbformat": 4,
 "nbformat_minor": 2
}
